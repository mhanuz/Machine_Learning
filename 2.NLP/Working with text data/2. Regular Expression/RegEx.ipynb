{
 "cells": [
  {
   "cell_type": "code",
   "execution_count": 1,
   "metadata": {},
   "outputs": [],
   "source": [
    "import re"
   ]
  },
  {
   "cell_type": "code",
   "execution_count": 2,
   "metadata": {},
   "outputs": [
    {
     "data": {
      "text/plain": [
       "<re.Match object; span=(0, 2), match='Hi'>"
      ]
     },
     "execution_count": 2,
     "metadata": {},
     "output_type": "execute_result"
    }
   ],
   "source": [
    "re.match('Hi',r'Hi there')"
   ]
  },
  {
   "cell_type": "code",
   "execution_count": 3,
   "metadata": {},
   "outputs": [],
   "source": [
    "re.match('Hi',r'hello Hi there')"
   ]
  },
  {
   "cell_type": "code",
   "execution_count": 4,
   "metadata": {},
   "outputs": [],
   "source": [
    "# match try to find out is the pattern have been first of the string"
   ]
  },
  {
   "cell_type": "code",
   "execution_count": 7,
   "metadata": {},
   "outputs": [
    {
     "data": {
      "text/plain": [
       "<re.Match object; span=(0, 1), match='e'>"
      ]
     },
     "execution_count": 7,
     "metadata": {},
     "output_type": "execute_result"
    }
   ],
   "source": [
    "re.match('e',r'e I don\\'t know')"
   ]
  },
  {
   "cell_type": "code",
   "execution_count": 8,
   "metadata": {},
   "outputs": [],
   "source": [
    "result=re.match(r'av','av is alternative video av')"
   ]
  },
  {
   "cell_type": "code",
   "execution_count": 12,
   "metadata": {},
   "outputs": [
    {
     "data": {
      "text/plain": [
       "'av'"
      ]
     },
     "execution_count": 12,
     "metadata": {},
     "output_type": "execute_result"
    }
   ],
   "source": [
    "result.group(0)"
   ]
  },
  {
   "cell_type": "code",
   "execution_count": 13,
   "metadata": {},
   "outputs": [],
   "source": [
    "re.match(r'Analytics', 'AV Analytics Vidhya AV')"
   ]
  },
  {
   "cell_type": "code",
   "execution_count": 14,
   "metadata": {},
   "outputs": [
    {
     "data": {
      "text/plain": [
       "<re.Match object; span=(0, 2), match='AV'>"
      ]
     },
     "execution_count": 14,
     "metadata": {},
     "output_type": "execute_result"
    }
   ],
   "source": [
    "re.match(r'AV', 'AV Analytics Vidhya AV')"
   ]
  },
  {
   "cell_type": "code",
   "execution_count": 16,
   "metadata": {},
   "outputs": [],
   "source": [
    "result=re.match(r'Amar','Amar sonar bangla Amar ahonkar amar matrivhumi')"
   ]
  },
  {
   "cell_type": "code",
   "execution_count": 17,
   "metadata": {},
   "outputs": [
    {
     "data": {
      "text/plain": [
       "'Amar'"
      ]
     },
     "execution_count": 17,
     "metadata": {},
     "output_type": "execute_result"
    }
   ],
   "source": [
    "result.group(0)"
   ]
  },
  {
   "cell_type": "code",
   "execution_count": 18,
   "metadata": {},
   "outputs": [
    {
     "data": {
      "text/plain": [
       "0"
      ]
     },
     "execution_count": 18,
     "metadata": {},
     "output_type": "execute_result"
    }
   ],
   "source": [
    "result.start()"
   ]
  },
  {
   "cell_type": "code",
   "execution_count": 19,
   "metadata": {},
   "outputs": [
    {
     "data": {
      "text/plain": [
       "4"
      ]
     },
     "execution_count": 19,
     "metadata": {},
     "output_type": "execute_result"
    }
   ],
   "source": [
    "result.end()"
   ]
  },
  {
   "cell_type": "code",
   "execution_count": 20,
   "metadata": {},
   "outputs": [],
   "source": [
    "result=re.search(r'analytics','Av analytics platform ')"
   ]
  },
  {
   "cell_type": "code",
   "execution_count": 21,
   "metadata": {},
   "outputs": [
    {
     "data": {
      "text/plain": [
       "<re.Match object; span=(3, 12), match='analytics'>"
      ]
     },
     "execution_count": 21,
     "metadata": {},
     "output_type": "execute_result"
    }
   ],
   "source": [
    "result"
   ]
  },
  {
   "cell_type": "code",
   "execution_count": 22,
   "metadata": {},
   "outputs": [
    {
     "data": {
      "text/plain": [
       "<re.Match object; span=(0, 2), match='av'>"
      ]
     },
     "execution_count": 22,
     "metadata": {},
     "output_type": "execute_result"
    }
   ],
   "source": [
    "re.search(r'av','av is av is av not av')"
   ]
  },
  {
   "cell_type": "code",
   "execution_count": 27,
   "metadata": {},
   "outputs": [],
   "source": [
    "res=re.search(r'av','is av is av not av')"
   ]
  },
  {
   "cell_type": "code",
   "execution_count": 28,
   "metadata": {},
   "outputs": [
    {
     "data": {
      "text/plain": [
       "'av'"
      ]
     },
     "execution_count": 28,
     "metadata": {},
     "output_type": "execute_result"
    }
   ],
   "source": [
    "res.group(0)"
   ]
  },
  {
   "cell_type": "code",
   "execution_count": 29,
   "metadata": {},
   "outputs": [
    {
     "data": {
      "text/plain": [
       "<re.Match object; span=(7, 9), match='av'>"
      ]
     },
     "execution_count": 29,
     "metadata": {},
     "output_type": "execute_result"
    }
   ],
   "source": [
    "re.search(r'av','all is av is av not av')"
   ]
  },
  {
   "cell_type": "code",
   "execution_count": 30,
   "metadata": {},
   "outputs": [
    {
     "data": {
      "text/plain": [
       "['av', 'av', 'av']"
      ]
     },
     "execution_count": 30,
     "metadata": {},
     "output_type": "execute_result"
    }
   ],
   "source": [
    "re.findall(r'av','all is av is av not av')"
   ]
  },
  {
   "cell_type": "code",
   "execution_count": 31,
   "metadata": {},
   "outputs": [],
   "source": [
    "res=re.findall(r'av','all is av is av not av')"
   ]
  },
  {
   "cell_type": "code",
   "execution_count": 32,
   "metadata": {},
   "outputs": [
    {
     "data": {
      "text/plain": [
       "<function list.count(value, /)>"
      ]
     },
     "execution_count": 32,
     "metadata": {},
     "output_type": "execute_result"
    }
   ],
   "source": [
    "res.count"
   ]
  },
  {
   "cell_type": "code",
   "execution_count": 34,
   "metadata": {},
   "outputs": [
    {
     "data": {
      "text/plain": [
       "['anl', 'tics an', 'one']"
      ]
     },
     "execution_count": 34,
     "metadata": {},
     "output_type": "execute_result"
    }
   ],
   "source": [
    "re.split(r'y','anlytics anyone')"
   ]
  },
  {
   "cell_type": "code",
   "execution_count": 35,
   "metadata": {},
   "outputs": [
    {
     "data": {
      "text/plain": [
       "['anl', 'tics anyone']"
      ]
     },
     "execution_count": 35,
     "metadata": {},
     "output_type": "execute_result"
    }
   ],
   "source": [
    "re.split(r'y','anlytics anyone', maxsplit=1)"
   ]
  },
  {
   "cell_type": "code",
   "execution_count": 36,
   "metadata": {},
   "outputs": [],
   "source": [
    "text='Google “NLP jobs” and a remarkable number of relevant searches show up. There are businesses spinning up around the world that cater exclusively to Natural Language Processing (NLP) roles! The industry demand for NLP experts has never been higher – and this is expected to increase exponentially in the next few years.'"
   ]
  },
  {
   "cell_type": "code",
   "execution_count": 37,
   "metadata": {},
   "outputs": [
    {
     "data": {
      "text/plain": [
       "'Google “ML jobs” and a remarkable number of relevant searches show up. There are businesses spinning up around the world that cater exclusively to Natural Language Processing (ML) roles! The industry demand for ML experts has never been higher – and this is expected to increase exponentially in the next few years.'"
      ]
     },
     "execution_count": 37,
     "metadata": {},
     "output_type": "execute_result"
    }
   ],
   "source": [
    "re.sub(r'NLP','ML', text)"
   ]
  },
  {
   "cell_type": "code",
   "execution_count": 43,
   "metadata": {},
   "outputs": [],
   "source": [
    "pattern=re.compile('NLP')"
   ]
  },
  {
   "cell_type": "code",
   "execution_count": 44,
   "metadata": {},
   "outputs": [
    {
     "data": {
      "text/plain": [
       "'Google “NLP jobs” and a remarkable number of relevant searches show up. There are businesses spinning up around the world that cater exclusively to Natural Language Processing (NLP) roles! The industry demand for NLP experts has never been higher – and this is expected to increase exponentially in the next few years.'"
      ]
     },
     "execution_count": 44,
     "metadata": {},
     "output_type": "execute_result"
    }
   ],
   "source": [
    "text"
   ]
  },
  {
   "cell_type": "code",
   "execution_count": 45,
   "metadata": {},
   "outputs": [
    {
     "data": {
      "text/plain": [
       "['NLP', 'NLP', 'NLP']"
      ]
     },
     "execution_count": 45,
     "metadata": {},
     "output_type": "execute_result"
    }
   ],
   "source": [
    "pattern.findall(text)"
   ]
  },
  {
   "cell_type": "code",
   "execution_count": 46,
   "metadata": {},
   "outputs": [
    {
     "data": {
      "text/plain": [
       "['G',\n",
       " 'o',\n",
       " 'o',\n",
       " 'g',\n",
       " 'l',\n",
       " 'e',\n",
       " ' ',\n",
       " '“',\n",
       " 'N',\n",
       " 'L',\n",
       " 'P',\n",
       " ' ',\n",
       " 'j',\n",
       " 'o',\n",
       " 'b',\n",
       " 's',\n",
       " '”',\n",
       " ' ',\n",
       " 'a',\n",
       " 'n',\n",
       " 'd',\n",
       " ' ',\n",
       " 'a',\n",
       " ' ',\n",
       " 'r',\n",
       " 'e',\n",
       " 'm',\n",
       " 'a',\n",
       " 'r',\n",
       " 'k',\n",
       " 'a',\n",
       " 'b',\n",
       " 'l',\n",
       " 'e',\n",
       " ' ',\n",
       " 'n',\n",
       " 'u',\n",
       " 'm',\n",
       " 'b',\n",
       " 'e',\n",
       " 'r',\n",
       " ' ',\n",
       " 'o',\n",
       " 'f',\n",
       " ' ',\n",
       " 'r',\n",
       " 'e',\n",
       " 'l',\n",
       " 'e',\n",
       " 'v',\n",
       " 'a',\n",
       " 'n',\n",
       " 't',\n",
       " ' ',\n",
       " 's',\n",
       " 'e',\n",
       " 'a',\n",
       " 'r',\n",
       " 'c',\n",
       " 'h',\n",
       " 'e',\n",
       " 's',\n",
       " ' ',\n",
       " 's',\n",
       " 'h',\n",
       " 'o',\n",
       " 'w',\n",
       " ' ',\n",
       " 'u',\n",
       " 'p',\n",
       " '.',\n",
       " ' ',\n",
       " 'T',\n",
       " 'h',\n",
       " 'e',\n",
       " 'r',\n",
       " 'e',\n",
       " ' ',\n",
       " 'a',\n",
       " 'r',\n",
       " 'e',\n",
       " ' ',\n",
       " 'b',\n",
       " 'u',\n",
       " 's',\n",
       " 'i',\n",
       " 'n',\n",
       " 'e',\n",
       " 's',\n",
       " 's',\n",
       " 'e',\n",
       " 's',\n",
       " ' ',\n",
       " 's',\n",
       " 'p',\n",
       " 'i',\n",
       " 'n',\n",
       " 'n',\n",
       " 'i',\n",
       " 'n',\n",
       " 'g',\n",
       " ' ',\n",
       " 'u',\n",
       " 'p',\n",
       " ' ',\n",
       " 'a',\n",
       " 'r',\n",
       " 'o',\n",
       " 'u',\n",
       " 'n',\n",
       " 'd',\n",
       " ' ',\n",
       " 't',\n",
       " 'h',\n",
       " 'e',\n",
       " ' ',\n",
       " 'w',\n",
       " 'o',\n",
       " 'r',\n",
       " 'l',\n",
       " 'd',\n",
       " ' ',\n",
       " 't',\n",
       " 'h',\n",
       " 'a',\n",
       " 't',\n",
       " ' ',\n",
       " 'c',\n",
       " 'a',\n",
       " 't',\n",
       " 'e',\n",
       " 'r',\n",
       " ' ',\n",
       " 'e',\n",
       " 'x',\n",
       " 'c',\n",
       " 'l',\n",
       " 'u',\n",
       " 's',\n",
       " 'i',\n",
       " 'v',\n",
       " 'e',\n",
       " 'l',\n",
       " 'y',\n",
       " ' ',\n",
       " 't',\n",
       " 'o',\n",
       " ' ',\n",
       " 'N',\n",
       " 'a',\n",
       " 't',\n",
       " 'u',\n",
       " 'r',\n",
       " 'a',\n",
       " 'l',\n",
       " ' ',\n",
       " 'L',\n",
       " 'a',\n",
       " 'n',\n",
       " 'g',\n",
       " 'u',\n",
       " 'a',\n",
       " 'g',\n",
       " 'e',\n",
       " ' ',\n",
       " 'P',\n",
       " 'r',\n",
       " 'o',\n",
       " 'c',\n",
       " 'e',\n",
       " 's',\n",
       " 's',\n",
       " 'i',\n",
       " 'n',\n",
       " 'g',\n",
       " ' ',\n",
       " '(',\n",
       " 'N',\n",
       " 'L',\n",
       " 'P',\n",
       " ')',\n",
       " ' ',\n",
       " 'r',\n",
       " 'o',\n",
       " 'l',\n",
       " 'e',\n",
       " 's',\n",
       " '!',\n",
       " ' ',\n",
       " 'T',\n",
       " 'h',\n",
       " 'e',\n",
       " ' ',\n",
       " 'i',\n",
       " 'n',\n",
       " 'd',\n",
       " 'u',\n",
       " 's',\n",
       " 't',\n",
       " 'r',\n",
       " 'y',\n",
       " ' ',\n",
       " 'd',\n",
       " 'e',\n",
       " 'm',\n",
       " 'a',\n",
       " 'n',\n",
       " 'd',\n",
       " ' ',\n",
       " 'f',\n",
       " 'o',\n",
       " 'r',\n",
       " ' ',\n",
       " 'N',\n",
       " 'L',\n",
       " 'P',\n",
       " ' ',\n",
       " 'e',\n",
       " 'x',\n",
       " 'p',\n",
       " 'e',\n",
       " 'r',\n",
       " 't',\n",
       " 's',\n",
       " ' ',\n",
       " 'h',\n",
       " 'a',\n",
       " 's',\n",
       " ' ',\n",
       " 'n',\n",
       " 'e',\n",
       " 'v',\n",
       " 'e',\n",
       " 'r',\n",
       " ' ',\n",
       " 'b',\n",
       " 'e',\n",
       " 'e',\n",
       " 'n',\n",
       " ' ',\n",
       " 'h',\n",
       " 'i',\n",
       " 'g',\n",
       " 'h',\n",
       " 'e',\n",
       " 'r',\n",
       " ' ',\n",
       " '–',\n",
       " ' ',\n",
       " 'a',\n",
       " 'n',\n",
       " 'd',\n",
       " ' ',\n",
       " 't',\n",
       " 'h',\n",
       " 'i',\n",
       " 's',\n",
       " ' ',\n",
       " 'i',\n",
       " 's',\n",
       " ' ',\n",
       " 'e',\n",
       " 'x',\n",
       " 'p',\n",
       " 'e',\n",
       " 'c',\n",
       " 't',\n",
       " 'e',\n",
       " 'd',\n",
       " ' ',\n",
       " 't',\n",
       " 'o',\n",
       " ' ',\n",
       " 'i',\n",
       " 'n',\n",
       " 'c',\n",
       " 'r',\n",
       " 'e',\n",
       " 'a',\n",
       " 's',\n",
       " 'e',\n",
       " ' ',\n",
       " 'e',\n",
       " 'x',\n",
       " 'p',\n",
       " 'o',\n",
       " 'n',\n",
       " 'e',\n",
       " 'n',\n",
       " 't',\n",
       " 'i',\n",
       " 'a',\n",
       " 'l',\n",
       " 'l',\n",
       " 'y',\n",
       " ' ',\n",
       " 'i',\n",
       " 'n',\n",
       " ' ',\n",
       " 't',\n",
       " 'h',\n",
       " 'e',\n",
       " ' ',\n",
       " 'n',\n",
       " 'e',\n",
       " 'x',\n",
       " 't',\n",
       " ' ',\n",
       " 'f',\n",
       " 'e',\n",
       " 'w',\n",
       " ' ',\n",
       " 'y',\n",
       " 'e',\n",
       " 'a',\n",
       " 'r',\n",
       " 's',\n",
       " '.']"
      ]
     },
     "execution_count": 46,
     "metadata": {},
     "output_type": "execute_result"
    }
   ],
   "source": [
    "re.findall(r'.',text)"
   ]
  },
  {
   "cell_type": "code",
   "execution_count": 47,
   "metadata": {},
   "outputs": [],
   "source": [
    "# . matches any single characeter"
   ]
  },
  {
   "cell_type": "code",
   "execution_count": 48,
   "metadata": {},
   "outputs": [
    {
     "data": {
      "text/plain": [
       "['NLP', 'NLP', 'NLP']"
      ]
     },
     "execution_count": 48,
     "metadata": {},
     "output_type": "execute_result"
    }
   ],
   "source": [
    "re.findall(r'N.P',text)"
   ]
  },
  {
   "cell_type": "code",
   "execution_count": 49,
   "metadata": {},
   "outputs": [
    {
     "data": {
      "text/plain": [
       "['Natura']"
      ]
     },
     "execution_count": 49,
     "metadata": {},
     "output_type": "execute_result"
    }
   ],
   "source": [
    "re.findall(r'Nat...',text)"
   ]
  },
  {
   "cell_type": "code",
   "execution_count": 50,
   "metadata": {},
   "outputs": [
    {
     "data": {
      "text/plain": [
       "['Natural']"
      ]
     },
     "execution_count": 50,
     "metadata": {},
     "output_type": "execute_result"
    }
   ],
   "source": [
    "re.findall(r'Nat....',text)"
   ]
  },
  {
   "cell_type": "code",
   "execution_count": 51,
   "metadata": {},
   "outputs": [
    {
     "data": {
      "text/plain": [
       "['Natu']"
      ]
     },
     "execution_count": 51,
     "metadata": {},
     "output_type": "execute_result"
    }
   ],
   "source": [
    "re.findall(r'Na..',text)"
   ]
  },
  {
   "cell_type": "code",
   "execution_count": 52,
   "metadata": {},
   "outputs": [
    {
     "data": {
      "text/plain": [
       "['Natural']"
      ]
     },
     "execution_count": 52,
     "metadata": {},
     "output_type": "execute_result"
    }
   ],
   "source": [
    "re.findall(r'Na.....',text)"
   ]
  },
  {
   "cell_type": "code",
   "execution_count": 54,
   "metadata": {},
   "outputs": [
    {
     "data": {
      "text/plain": [
       "['Natural']"
      ]
     },
     "execution_count": 54,
     "metadata": {},
     "output_type": "execute_result"
    }
   ],
   "source": [
    "re.findall(r'Na..ral',text)"
   ]
  },
  {
   "cell_type": "code",
   "execution_count": 56,
   "metadata": {},
   "outputs": [
    {
     "data": {
      "text/plain": [
       "['G',\n",
       " 'o',\n",
       " 'o',\n",
       " 'g',\n",
       " 'l',\n",
       " 'e',\n",
       " 'N',\n",
       " 'L',\n",
       " 'P',\n",
       " 'j',\n",
       " 'o',\n",
       " 'b',\n",
       " 's',\n",
       " 'a',\n",
       " 'n',\n",
       " 'd',\n",
       " 'a',\n",
       " 'r',\n",
       " 'e',\n",
       " 'm',\n",
       " 'a',\n",
       " 'r',\n",
       " 'k',\n",
       " 'a',\n",
       " 'b',\n",
       " 'l',\n",
       " 'e',\n",
       " 'n',\n",
       " 'u',\n",
       " 'm',\n",
       " 'b',\n",
       " 'e',\n",
       " 'r',\n",
       " 'o',\n",
       " 'f',\n",
       " 'r',\n",
       " 'e',\n",
       " 'l',\n",
       " 'e',\n",
       " 'v',\n",
       " 'a',\n",
       " 'n',\n",
       " 't',\n",
       " 's',\n",
       " 'e',\n",
       " 'a',\n",
       " 'r',\n",
       " 'c',\n",
       " 'h',\n",
       " 'e',\n",
       " 's',\n",
       " 's',\n",
       " 'h',\n",
       " 'o',\n",
       " 'w',\n",
       " 'u',\n",
       " 'p',\n",
       " 'T',\n",
       " 'h',\n",
       " 'e',\n",
       " 'r',\n",
       " 'e',\n",
       " 'a',\n",
       " 'r',\n",
       " 'e',\n",
       " 'b',\n",
       " 'u',\n",
       " 's',\n",
       " 'i',\n",
       " 'n',\n",
       " 'e',\n",
       " 's',\n",
       " 's',\n",
       " 'e',\n",
       " 's',\n",
       " 's',\n",
       " 'p',\n",
       " 'i',\n",
       " 'n',\n",
       " 'n',\n",
       " 'i',\n",
       " 'n',\n",
       " 'g',\n",
       " 'u',\n",
       " 'p',\n",
       " 'a',\n",
       " 'r',\n",
       " 'o',\n",
       " 'u',\n",
       " 'n',\n",
       " 'd',\n",
       " 't',\n",
       " 'h',\n",
       " 'e',\n",
       " 'w',\n",
       " 'o',\n",
       " 'r',\n",
       " 'l',\n",
       " 'd',\n",
       " 't',\n",
       " 'h',\n",
       " 'a',\n",
       " 't',\n",
       " 'c',\n",
       " 'a',\n",
       " 't',\n",
       " 'e',\n",
       " 'r',\n",
       " 'e',\n",
       " 'x',\n",
       " 'c',\n",
       " 'l',\n",
       " 'u',\n",
       " 's',\n",
       " 'i',\n",
       " 'v',\n",
       " 'e',\n",
       " 'l',\n",
       " 'y',\n",
       " 't',\n",
       " 'o',\n",
       " 'N',\n",
       " 'a',\n",
       " 't',\n",
       " 'u',\n",
       " 'r',\n",
       " 'a',\n",
       " 'l',\n",
       " 'L',\n",
       " 'a',\n",
       " 'n',\n",
       " 'g',\n",
       " 'u',\n",
       " 'a',\n",
       " 'g',\n",
       " 'e',\n",
       " 'P',\n",
       " 'r',\n",
       " 'o',\n",
       " 'c',\n",
       " 'e',\n",
       " 's',\n",
       " 's',\n",
       " 'i',\n",
       " 'n',\n",
       " 'g',\n",
       " 'N',\n",
       " 'L',\n",
       " 'P',\n",
       " 'r',\n",
       " 'o',\n",
       " 'l',\n",
       " 'e',\n",
       " 's',\n",
       " 'T',\n",
       " 'h',\n",
       " 'e',\n",
       " 'i',\n",
       " 'n',\n",
       " 'd',\n",
       " 'u',\n",
       " 's',\n",
       " 't',\n",
       " 'r',\n",
       " 'y',\n",
       " 'd',\n",
       " 'e',\n",
       " 'm',\n",
       " 'a',\n",
       " 'n',\n",
       " 'd',\n",
       " 'f',\n",
       " 'o',\n",
       " 'r',\n",
       " 'N',\n",
       " 'L',\n",
       " 'P',\n",
       " 'e',\n",
       " 'x',\n",
       " 'p',\n",
       " 'e',\n",
       " 'r',\n",
       " 't',\n",
       " 's',\n",
       " 'h',\n",
       " 'a',\n",
       " 's',\n",
       " 'n',\n",
       " 'e',\n",
       " 'v',\n",
       " 'e',\n",
       " 'r',\n",
       " 'b',\n",
       " 'e',\n",
       " 'e',\n",
       " 'n',\n",
       " 'h',\n",
       " 'i',\n",
       " 'g',\n",
       " 'h',\n",
       " 'e',\n",
       " 'r',\n",
       " 'a',\n",
       " 'n',\n",
       " 'd',\n",
       " 't',\n",
       " 'h',\n",
       " 'i',\n",
       " 's',\n",
       " 'i',\n",
       " 's',\n",
       " 'e',\n",
       " 'x',\n",
       " 'p',\n",
       " 'e',\n",
       " 'c',\n",
       " 't',\n",
       " 'e',\n",
       " 'd',\n",
       " 't',\n",
       " 'o',\n",
       " 'i',\n",
       " 'n',\n",
       " 'c',\n",
       " 'r',\n",
       " 'e',\n",
       " 'a',\n",
       " 's',\n",
       " 'e',\n",
       " 'e',\n",
       " 'x',\n",
       " 'p',\n",
       " 'o',\n",
       " 'n',\n",
       " 'e',\n",
       " 'n',\n",
       " 't',\n",
       " 'i',\n",
       " 'a',\n",
       " 'l',\n",
       " 'l',\n",
       " 'y',\n",
       " 'i',\n",
       " 'n',\n",
       " 't',\n",
       " 'h',\n",
       " 'e',\n",
       " 'n',\n",
       " 'e',\n",
       " 'x',\n",
       " 't',\n",
       " 'f',\n",
       " 'e',\n",
       " 'w',\n",
       " 'y',\n",
       " 'e',\n",
       " 'a',\n",
       " 'r',\n",
       " 's']"
      ]
     },
     "execution_count": 56,
     "metadata": {},
     "output_type": "execute_result"
    }
   ],
   "source": [
    "re.findall(r'\\w', text) # reomve all spaces"
   ]
  },
  {
   "cell_type": "code",
   "execution_count": 57,
   "metadata": {},
   "outputs": [
    {
     "data": {
      "text/plain": [
       "'Google “NLP jobs” and a remarkable number of relevant searches show up. There are businesses spinning up around the world that cater exclusively to Natural Language Processing (NLP) roles! The industry demand for NLP experts has never been higher – and this is expected to increase exponentially in the next few years.'"
      ]
     },
     "execution_count": 57,
     "metadata": {},
     "output_type": "execute_result"
    }
   ],
   "source": [
    "text"
   ]
  },
  {
   "cell_type": "code",
   "execution_count": 59,
   "metadata": {},
   "outputs": [],
   "source": [
    "text='Google “NLP jobs” and a remarkable number of relevant searches show up 987. There are businesses 121 spinning up around the world that cater exclusively to Natural Language Processing (NLP)1221 roles! The industry demand for NLP 1992 experts has never been higher – and this is expected to increase exponentially in the next few years.'\n"
   ]
  },
  {
   "cell_type": "code",
   "execution_count": 60,
   "metadata": {},
   "outputs": [
    {
     "data": {
      "text/plain": [
       "['G',\n",
       " 'o',\n",
       " 'o',\n",
       " 'g',\n",
       " 'l',\n",
       " 'e',\n",
       " 'N',\n",
       " 'L',\n",
       " 'P',\n",
       " 'j',\n",
       " 'o',\n",
       " 'b',\n",
       " 's',\n",
       " 'a',\n",
       " 'n',\n",
       " 'd',\n",
       " 'a',\n",
       " 'r',\n",
       " 'e',\n",
       " 'm',\n",
       " 'a',\n",
       " 'r',\n",
       " 'k',\n",
       " 'a',\n",
       " 'b',\n",
       " 'l',\n",
       " 'e',\n",
       " 'n',\n",
       " 'u',\n",
       " 'm',\n",
       " 'b',\n",
       " 'e',\n",
       " 'r',\n",
       " 'o',\n",
       " 'f',\n",
       " 'r',\n",
       " 'e',\n",
       " 'l',\n",
       " 'e',\n",
       " 'v',\n",
       " 'a',\n",
       " 'n',\n",
       " 't',\n",
       " 's',\n",
       " 'e',\n",
       " 'a',\n",
       " 'r',\n",
       " 'c',\n",
       " 'h',\n",
       " 'e',\n",
       " 's',\n",
       " 's',\n",
       " 'h',\n",
       " 'o',\n",
       " 'w',\n",
       " 'u',\n",
       " 'p',\n",
       " '9',\n",
       " '8',\n",
       " '7',\n",
       " 'T',\n",
       " 'h',\n",
       " 'e',\n",
       " 'r',\n",
       " 'e',\n",
       " 'a',\n",
       " 'r',\n",
       " 'e',\n",
       " 'b',\n",
       " 'u',\n",
       " 's',\n",
       " 'i',\n",
       " 'n',\n",
       " 'e',\n",
       " 's',\n",
       " 's',\n",
       " 'e',\n",
       " 's',\n",
       " '1',\n",
       " '2',\n",
       " '1',\n",
       " 's',\n",
       " 'p',\n",
       " 'i',\n",
       " 'n',\n",
       " 'n',\n",
       " 'i',\n",
       " 'n',\n",
       " 'g',\n",
       " 'u',\n",
       " 'p',\n",
       " 'a',\n",
       " 'r',\n",
       " 'o',\n",
       " 'u',\n",
       " 'n',\n",
       " 'd',\n",
       " 't',\n",
       " 'h',\n",
       " 'e',\n",
       " 'w',\n",
       " 'o',\n",
       " 'r',\n",
       " 'l',\n",
       " 'd',\n",
       " 't',\n",
       " 'h',\n",
       " 'a',\n",
       " 't',\n",
       " 'c',\n",
       " 'a',\n",
       " 't',\n",
       " 'e',\n",
       " 'r',\n",
       " 'e',\n",
       " 'x',\n",
       " 'c',\n",
       " 'l',\n",
       " 'u',\n",
       " 's',\n",
       " 'i',\n",
       " 'v',\n",
       " 'e',\n",
       " 'l',\n",
       " 'y',\n",
       " 't',\n",
       " 'o',\n",
       " 'N',\n",
       " 'a',\n",
       " 't',\n",
       " 'u',\n",
       " 'r',\n",
       " 'a',\n",
       " 'l',\n",
       " 'L',\n",
       " 'a',\n",
       " 'n',\n",
       " 'g',\n",
       " 'u',\n",
       " 'a',\n",
       " 'g',\n",
       " 'e',\n",
       " 'P',\n",
       " 'r',\n",
       " 'o',\n",
       " 'c',\n",
       " 'e',\n",
       " 's',\n",
       " 's',\n",
       " 'i',\n",
       " 'n',\n",
       " 'g',\n",
       " 'N',\n",
       " 'L',\n",
       " 'P',\n",
       " '1',\n",
       " '2',\n",
       " '2',\n",
       " '1',\n",
       " 'r',\n",
       " 'o',\n",
       " 'l',\n",
       " 'e',\n",
       " 's',\n",
       " 'T',\n",
       " 'h',\n",
       " 'e',\n",
       " 'i',\n",
       " 'n',\n",
       " 'd',\n",
       " 'u',\n",
       " 's',\n",
       " 't',\n",
       " 'r',\n",
       " 'y',\n",
       " 'd',\n",
       " 'e',\n",
       " 'm',\n",
       " 'a',\n",
       " 'n',\n",
       " 'd',\n",
       " 'f',\n",
       " 'o',\n",
       " 'r',\n",
       " 'N',\n",
       " 'L',\n",
       " 'P',\n",
       " '1',\n",
       " '9',\n",
       " '9',\n",
       " '2',\n",
       " 'e',\n",
       " 'x',\n",
       " 'p',\n",
       " 'e',\n",
       " 'r',\n",
       " 't',\n",
       " 's',\n",
       " 'h',\n",
       " 'a',\n",
       " 's',\n",
       " 'n',\n",
       " 'e',\n",
       " 'v',\n",
       " 'e',\n",
       " 'r',\n",
       " 'b',\n",
       " 'e',\n",
       " 'e',\n",
       " 'n',\n",
       " 'h',\n",
       " 'i',\n",
       " 'g',\n",
       " 'h',\n",
       " 'e',\n",
       " 'r',\n",
       " 'a',\n",
       " 'n',\n",
       " 'd',\n",
       " 't',\n",
       " 'h',\n",
       " 'i',\n",
       " 's',\n",
       " 'i',\n",
       " 's',\n",
       " 'e',\n",
       " 'x',\n",
       " 'p',\n",
       " 'e',\n",
       " 'c',\n",
       " 't',\n",
       " 'e',\n",
       " 'd',\n",
       " 't',\n",
       " 'o',\n",
       " 'i',\n",
       " 'n',\n",
       " 'c',\n",
       " 'r',\n",
       " 'e',\n",
       " 'a',\n",
       " 's',\n",
       " 'e',\n",
       " 'e',\n",
       " 'x',\n",
       " 'p',\n",
       " 'o',\n",
       " 'n',\n",
       " 'e',\n",
       " 'n',\n",
       " 't',\n",
       " 'i',\n",
       " 'a',\n",
       " 'l',\n",
       " 'l',\n",
       " 'y',\n",
       " 'i',\n",
       " 'n',\n",
       " 't',\n",
       " 'h',\n",
       " 'e',\n",
       " 'n',\n",
       " 'e',\n",
       " 'x',\n",
       " 't',\n",
       " 'f',\n",
       " 'e',\n",
       " 'w',\n",
       " 'y',\n",
       " 'e',\n",
       " 'a',\n",
       " 'r',\n",
       " 's']"
      ]
     },
     "execution_count": 60,
     "metadata": {},
     "output_type": "execute_result"
    }
   ],
   "source": [
    "re.findall(r'\\w',text)"
   ]
  },
  {
   "cell_type": "code",
   "execution_count": 61,
   "metadata": {},
   "outputs": [
    {
     "data": {
      "text/plain": [
       "[' ',\n",
       " '“',\n",
       " ' ',\n",
       " '”',\n",
       " ' ',\n",
       " ' ',\n",
       " ' ',\n",
       " ' ',\n",
       " ' ',\n",
       " ' ',\n",
       " ' ',\n",
       " ' ',\n",
       " ' ',\n",
       " ' ',\n",
       " '.',\n",
       " ' ',\n",
       " ' ',\n",
       " ' ',\n",
       " ' ',\n",
       " ' ',\n",
       " ' ',\n",
       " ' ',\n",
       " ' ',\n",
       " ' ',\n",
       " ' ',\n",
       " ' ',\n",
       " ' ',\n",
       " ' ',\n",
       " ' ',\n",
       " ' ',\n",
       " ' ',\n",
       " ' ',\n",
       " '(',\n",
       " ')',\n",
       " ' ',\n",
       " '!',\n",
       " ' ',\n",
       " ' ',\n",
       " ' ',\n",
       " ' ',\n",
       " ' ',\n",
       " ' ',\n",
       " ' ',\n",
       " ' ',\n",
       " ' ',\n",
       " ' ',\n",
       " ' ',\n",
       " ' ',\n",
       " '–',\n",
       " ' ',\n",
       " ' ',\n",
       " ' ',\n",
       " ' ',\n",
       " ' ',\n",
       " ' ',\n",
       " ' ',\n",
       " ' ',\n",
       " ' ',\n",
       " ' ',\n",
       " ' ',\n",
       " ' ',\n",
       " '.']"
      ]
     },
     "execution_count": 61,
     "metadata": {},
     "output_type": "execute_result"
    }
   ],
   "source": [
    "re.findall(r'\\W',text)"
   ]
  },
  {
   "cell_type": "code",
   "execution_count": 63,
   "metadata": {},
   "outputs": [
    {
     "data": {
      "text/plain": [
       "['Google',\n",
       " 'NLP',\n",
       " 'jobs',\n",
       " 'and',\n",
       " 'a',\n",
       " 'remarkable',\n",
       " 'number',\n",
       " 'of',\n",
       " 'relevant',\n",
       " 'searches',\n",
       " 'show',\n",
       " 'up',\n",
       " '987',\n",
       " 'There',\n",
       " 'are',\n",
       " 'businesses',\n",
       " '121',\n",
       " 'spinning',\n",
       " 'up',\n",
       " 'around',\n",
       " 'the',\n",
       " 'world',\n",
       " 'that',\n",
       " 'cater',\n",
       " 'exclusively',\n",
       " 'to',\n",
       " 'Natural',\n",
       " 'Language',\n",
       " 'Processing',\n",
       " 'NLP',\n",
       " '1221',\n",
       " 'roles',\n",
       " 'The',\n",
       " 'industry',\n",
       " 'demand',\n",
       " 'for',\n",
       " 'NLP',\n",
       " '1992',\n",
       " 'experts',\n",
       " 'has',\n",
       " 'never',\n",
       " 'been',\n",
       " 'higher',\n",
       " 'and',\n",
       " 'this',\n",
       " 'is',\n",
       " 'expected',\n",
       " 'to',\n",
       " 'increase',\n",
       " 'exponentially',\n",
       " 'in',\n",
       " 'the',\n",
       " 'next',\n",
       " 'few',\n",
       " 'years']"
      ]
     },
     "execution_count": 63,
     "metadata": {},
     "output_type": "execute_result"
    }
   ],
   "source": [
    "re.findall(r'\\w+',text)"
   ]
  },
  {
   "cell_type": "code",
   "execution_count": 64,
   "metadata": {},
   "outputs": [],
   "source": [
    "result=re.findall(r'\\w+','AV is largest Analytics community of India')\n"
   ]
  },
  {
   "cell_type": "code",
   "execution_count": 65,
   "metadata": {},
   "outputs": [
    {
     "data": {
      "text/plain": [
       "['AV', 'is', 'largest', 'Analytics', 'community', 'of', 'India']"
      ]
     },
     "execution_count": 65,
     "metadata": {},
     "output_type": "execute_result"
    }
   ],
   "source": [
    "result"
   ]
  },
  {
   "cell_type": "code",
   "execution_count": 66,
   "metadata": {},
   "outputs": [
    {
     "data": {
      "text/plain": [
       "['Google']"
      ]
     },
     "execution_count": 66,
     "metadata": {},
     "output_type": "execute_result"
    }
   ],
   "source": [
    "re.findall(r'^\\w+',text)"
   ]
  },
  {
   "cell_type": "code",
   "execution_count": 68,
   "metadata": {},
   "outputs": [
    {
     "data": {
      "text/plain": [
       "[]"
      ]
     },
     "execution_count": 68,
     "metadata": {},
     "output_type": "execute_result"
    }
   ],
   "source": [
    "re.findall(r'\\w+$',text)"
   ]
  },
  {
   "cell_type": "code",
   "execution_count": 69,
   "metadata": {},
   "outputs": [
    {
     "data": {
      "text/plain": [
       "['India']"
      ]
     },
     "execution_count": 69,
     "metadata": {},
     "output_type": "execute_result"
    }
   ],
   "source": [
    "re.findall(r'\\w+$','AV is largest Analytics community of India')"
   ]
  },
  {
   "cell_type": "code",
   "execution_count": 70,
   "metadata": {},
   "outputs": [
    {
     "data": {
      "text/plain": [
       "['AV',\n",
       " 'is',\n",
       " 'la',\n",
       " 'rg',\n",
       " 'es',\n",
       " 'An',\n",
       " 'al',\n",
       " 'yt',\n",
       " 'ic',\n",
       " 'co',\n",
       " 'mm',\n",
       " 'un',\n",
       " 'it',\n",
       " 'of',\n",
       " 'In',\n",
       " 'di']"
      ]
     },
     "execution_count": 70,
     "metadata": {},
     "output_type": "execute_result"
    }
   ],
   "source": [
    "re.findall(r'\\w\\w','AV is largest Analytics community of India')"
   ]
  },
  {
   "cell_type": "code",
   "execution_count": 73,
   "metadata": {},
   "outputs": [
    {
     "data": {
      "text/plain": [
       "['AV', 'is', 'la', 'An', 'co', 'of', 'In']"
      ]
     },
     "execution_count": 73,
     "metadata": {},
     "output_type": "execute_result"
    }
   ],
   "source": [
    "re.findall(r'\\b\\w.','AV is largest Analytics community of India')"
   ]
  },
  {
   "cell_type": "code",
   "execution_count": 74,
   "metadata": {},
   "outputs": [
    {
     "data": {
      "text/plain": [
       "['@gmail', '@test', '@analyticsvidhya', '@rest']"
      ]
     },
     "execution_count": 74,
     "metadata": {},
     "output_type": "execute_result"
    }
   ],
   "source": [
    "re.findall(r'@\\w*','abc.test@gmail.com, xyz@test.in, test.first@analyticsvidhya.com, first.test@rest.biz')"
   ]
  },
  {
   "cell_type": "code",
   "execution_count": 80,
   "metadata": {},
   "outputs": [
    {
     "data": {
      "text/plain": [
       "['@gmail', '@test', '@analyticsvidhya', '@rest']"
      ]
     },
     "execution_count": 80,
     "metadata": {},
     "output_type": "execute_result"
    }
   ],
   "source": [
    "re.findall(r'@\\w+','abc.test@gmail.com, xyz@test.in, test.first@analyticsvidhya.com, first.test@rest.biz')"
   ]
  },
  {
   "cell_type": "code",
   "execution_count": 81,
   "metadata": {},
   "outputs": [
    {
     "data": {
      "text/plain": [
       "['com', 'in', 'com', 'biz']"
      ]
     },
     "execution_count": 81,
     "metadata": {},
     "output_type": "execute_result"
    }
   ],
   "source": [
    "re.findall(r'@\\w+.(\\w+)','abc.test@gmail.com, xyz@test.in, test.first@analyticsvidhya.com, first.test@rest.biz')"
   ]
  },
  {
   "cell_type": "code",
   "execution_count": 82,
   "metadata": {},
   "outputs": [
    {
     "data": {
      "text/plain": [
       "['12-05-2007', '11-11-2011', '12-01-2009']"
      ]
     },
     "execution_count": 82,
     "metadata": {},
     "output_type": "execute_result"
    }
   ],
   "source": [
    "re.findall(r'\\d{2}-\\d{2}-\\d{4}','Amit 34-3456 12-05-2007, XYZ 56-4532 11-11-2011, ABC 67-8945 12-01-2009')"
   ]
  },
  {
   "cell_type": "code",
   "execution_count": 83,
   "metadata": {},
   "outputs": [],
   "source": [
    "# check valid gmail account"
   ]
  },
  {
   "cell_type": "code",
   "execution_count": 87,
   "metadata": {},
   "outputs": [
    {
     "data": {
      "text/plain": [
       "['t@gmail.com']"
      ]
     },
     "execution_count": 87,
     "metadata": {},
     "output_type": "execute_result"
    }
   ],
   "source": [
    "re.findall(r'[a-zA-Z0-9._-]@\\w+.com','abc.test@gmail.com')"
   ]
  },
  {
   "cell_type": "code",
   "execution_count": 88,
   "metadata": {},
   "outputs": [
    {
     "data": {
      "text/plain": [
       "['AV', 'is', 'largest', 'Analytics', 'community', 'of', 'India']"
      ]
     },
     "execution_count": 88,
     "metadata": {},
     "output_type": "execute_result"
    }
   ],
   "source": [
    "re.findall(r'\\w+','AV is largest Analytics community of India')"
   ]
  },
  {
   "cell_type": "code",
   "execution_count": 89,
   "metadata": {},
   "outputs": [
    {
     "data": {
      "text/plain": [
       "['AV', 'is', 'argest', 'Analytics', 'ommunity', 'of', 'India']"
      ]
     },
     "execution_count": 89,
     "metadata": {},
     "output_type": "execute_result"
    }
   ],
   "source": [
    "re.findall(r'[aeiouAEIOU]\\w+','AV is largest Analytics community of India')"
   ]
  },
  {
   "cell_type": "code",
   "execution_count": 90,
   "metadata": {},
   "outputs": [
    {
     "data": {
      "text/plain": [
       "['AV', 'is', 'Analytics', 'of', 'India']"
      ]
     },
     "execution_count": 90,
     "metadata": {},
     "output_type": "execute_result"
    }
   ],
   "source": [
    "re.findall(r'\\b[aeiouAEIOU]\\w+','AV is largest Analytics community of India')"
   ]
  },
  {
   "cell_type": "code",
   "execution_count": 91,
   "metadata": {},
   "outputs": [
    {
     "data": {
      "text/plain": [
       "[' is', ' largest', ' Analytics', ' community', ' of', ' India']"
      ]
     },
     "execution_count": 91,
     "metadata": {},
     "output_type": "execute_result"
    }
   ],
   "source": [
    "re.findall(r'\\b[^aeiouAEIOU]\\w+','AV is largest Analytics community of India')"
   ]
  },
  {
   "cell_type": "code",
   "execution_count": 92,
   "metadata": {},
   "outputs": [
    {
     "data": {
      "text/plain": [
       "['largest', 'community']"
      ]
     },
     "execution_count": 92,
     "metadata": {},
     "output_type": "execute_result"
    }
   ],
   "source": [
    "re.findall(r'\\b[^aeiouAEIOU ]\\w+','AV is largest Analytics community of India')"
   ]
  },
  {
   "cell_type": "code",
   "execution_count": 93,
   "metadata": {},
   "outputs": [],
   "source": [
    "li=['9999999999','999999-999','99999x9999']"
   ]
  },
  {
   "cell_type": "code",
   "execution_count": 95,
   "metadata": {},
   "outputs": [
    {
     "name": "stdout",
     "output_type": "stream",
     "text": [
      "yes\n",
      "No\n",
      "No\n"
     ]
    }
   ],
   "source": [
    "for val in li:\n",
    "    if re.match(r'[8-9]{1}[0-9]{9}',val) and len(val) == 10:\n",
    "        print('yes')\n",
    "    else:\n",
    "        print('No')"
   ]
  },
  {
   "cell_type": "code",
   "execution_count": 97,
   "metadata": {},
   "outputs": [],
   "source": [
    "line = 'asdf fjdk;afed,fjek,asdf,foo' # String has multiple delimiters (\";\",\",\",\" \").\n",
    "result= re.split(r'[;,\\s]', line)"
   ]
  },
  {
   "cell_type": "code",
   "execution_count": 98,
   "metadata": {},
   "outputs": [
    {
     "data": {
      "text/plain": [
       "['asdf', 'fjdk', 'afed', 'fjek', 'asdf', 'foo']"
      ]
     },
     "execution_count": 98,
     "metadata": {},
     "output_type": "execute_result"
    }
   ],
   "source": [
    "result"
   ]
  },
  {
   "cell_type": "code",
   "execution_count": 99,
   "metadata": {},
   "outputs": [],
   "source": [
    "line = 'asdf fjdk;afed,fjek,asdf,foo'\n",
    "result= re.sub(r'[;,\\s]',' ', line)"
   ]
  },
  {
   "cell_type": "code",
   "execution_count": 100,
   "metadata": {},
   "outputs": [
    {
     "data": {
      "text/plain": [
       "'asdf fjdk afed fjek asdf foo'"
      ]
     },
     "execution_count": 100,
     "metadata": {},
     "output_type": "execute_result"
    }
   ],
   "source": [
    "result"
   ]
  },
  {
   "cell_type": "code",
   "execution_count": 102,
   "metadata": {},
   "outputs": [],
   "source": [
    "text='abc.def@gmail.com'"
   ]
  },
  {
   "cell_type": "code",
   "execution_count": 121,
   "metadata": {},
   "outputs": [
    {
     "data": {
      "text/plain": [
       "['counselor1.pc@daffodilvarsity.edu.bd']"
      ]
     },
     "execution_count": 121,
     "metadata": {},
     "output_type": "execute_result"
    }
   ],
   "source": [
    "re.findall(r'[a-z0-9._-]+@[a-z.]+', 'counselor1.pc@daffodilvarsity.edu.bd')"
   ]
  },
  {
   "cell_type": "code",
   "execution_count": null,
   "metadata": {},
   "outputs": [],
   "source": [
    "re.findall(r'\\b[a-z0-9._%+-]+@[a-z0-9.-]+\\.[a-z]{2,}\\b', )"
   ]
  }
 ],
 "metadata": {
  "kernelspec": {
   "display_name": "Python 3",
   "language": "python",
   "name": "python3"
  },
  "language_info": {
   "codemirror_mode": {
    "name": "ipython",
    "version": 3
   },
   "file_extension": ".py",
   "mimetype": "text/x-python",
   "name": "python",
   "nbconvert_exporter": "python",
   "pygments_lexer": "ipython3",
   "version": "3.8.3"
  }
 },
 "nbformat": 4,
 "nbformat_minor": 4
}
